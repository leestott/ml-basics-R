{
  "nbformat": 4,
  "nbformat_minor": 2,
  "metadata": {
    "colab": {
      "name": "01_Data_Exploration_R.ipynb",
      "provenance": [],
      "collapsed_sections": [],
      "toc_visible": true
    },
    "kernelspec": {
      "name": "ir",
      "display_name": "R"
    },
    "language_info": {
      "name": "R"
    }
  },
  "cells": [
    {
      "cell_type": "markdown",
      "source": [
        "# Explore and analyze data with R\r\n",
        "\r\n",
        "## Buckle up 👨‍🚀\r\n",
        "\r\n",
        "In this learning path, we'll learn how to create Machine learning models using `R` 😊. Machine learning is the foundation for predictive modeling and artificial intelligence.We'll learn the core principles of machine learning and how to use common tools and frameworks to train, evaluate, and use machine learning models.\r\n",
        "\r\n",
        "Modules that will be covered in this learning path include:\r\n",
        "\r\n",
        "-   Explore and analyze data with R\r\n",
        "\r\n",
        "-   Train and evaluate regression models\r\n",
        "\r\n",
        "-   *Train and evaluate classification models (under development)*\r\n",
        "\r\n",
        "-   *Train and evaluate clustering models (under development)*\r\n",
        "\r\n",
        "-   *Train and evaluate deep learning models (under development)*\r\n",
        "\r\n",
        "### **Prerequisites**\r\n",
        "\r\n",
        "This learning path assumes knowledge of basic mathematical concepts. Some experience with `R and the tidyverse` is also beneficial though we'll try as much as possible to skim through the core concepts. To get started with R and the tidyverse , the best place to start would be [R for Data Science](http://r4ds.had.co.nz/) an O'Reilly book written by Hadley Wickham and Garrett Grolemund. It's designed to take you from knowing nothing about R or the tidyverse to having all the basic tools of data science at your fingertips.\r\n",
        "\r\n",
        "\r\n",
        "\r\n",
        "The `Python` edition of the learning path can be found at [this learning path](https://docs.microsoft.com/en-us/learn/paths/create-machine-learn-models/).\r\n",
        "\r\n",
        "### Why R?\r\n",
        "\r\n",
        "> We think R is a great place to start your data science journey because it is an environment designed from the ground up to support data science. R is not just a programming language, but it is also an interactive environment for doing data science. To support interaction, R is a much more flexible language than many of its peers. This flexibility comes with its downsides, but the big upside is how easy it is to evolve tailored grammars for specific parts of the data science process. These mini languages help you think about problems as a data scientist, while supporting fluent interaction between your brain and the computer. - [**R for Data Science**](https://r4ds.had.co.nz/index.html) by Hadley Wickham and Garrett Grolemund\r\n",
        "\r\n",
        "Now, let's get started!\r\n",
        "\r\n",
        "\r\n",
        "![Artwork by \\@allison_horst](images/r_learners_sm.jpeg){width=\"169\"}"
      ],
      "metadata": {
        "id": "rCM95dn7Z8Q8"
      }
    },
    {
      "cell_type": "markdown",
      "source": [
        "\n",
        "\n",
        "### Introduction\n",
        "\n",
        "Unsurprisingly, the role of a data scientist primarily involves exploring and analyzing data. The results of this analysis might form the basis of a report or a machine learning model; but it all begins with data.\n",
        "\n",
        "> *Machine learning is a subset of data science that deals with predictive modeling. In other words, using data to create models that can predict unknown values. It works by identifying relationships between data values that describe characteristics of something (its features) and the value we want to predict (the label), and encapsulating these relationships in a model through a training process.*\n",
        "\n",
        "Usually, a data analysis project is designed to establish insights around a particular scenario or to test a hypothesis. For example, suppose a university professor collects data from data science students, including the number of lectures attended, the hours spent studying, and the final grade achieved on the end of term exam. The professor could then take a sample of the data and analyze it to determine if there is a relationship between the amount of study a student undertakes and the final grade they achieve. They might use the data to test a hypothesis that only students who study for a minimum number of hours can expect to achieve a passing grade; or even prepare the data to train a machine learning model that predicts a student's grade based on their study habits.\n",
        "\n",
        "![](images/student-grades.png){width=\"569\"}"
      ],
      "metadata": {
        "id": "YEZjMQxRalvx"
      }
    },
    {
      "cell_type": "markdown",
      "source": [
        "## **Exercise - Explore data**\n",
        "\n",
        "Data exploration and analysis is typically an *iterative* process, in which the data scientist takes a sample of data, and performs the following kinds of task to analyze it and test hypotheses:\n",
        "\n",
        "-   Clean data to handle errors, missing values, and other issues.\n",
        "\n",
        "-   Apply statistical techniques to better understand the data, and how the sample might be expected to represent the real-world population of data, allowing for random variation.\n",
        "\n",
        "-   Visualize data to determine relationships between variables, and in the case of a machine learning project, identify *features* that are potentially predictive of the *label*.\n",
        "\n",
        "-   Derive new features from existing ones that might better encapsulate relationships within the data.\n",
        "\n",
        "-   Revise the hypothesis and repeat the process.\n",
        "\n",
        "Data scientists can use a variety of tools and techniques to explore, visualize, and manipulate data. One of the most common ways in which data scientists work with data is to use the R language and some specific packages for data processing.\n",
        "\n",
        "The best way to learn about exploring and preparing data is to try it for yourself, so that's what you'll do in this exercise.\n",
        "\n",
        "We'll require some packages to knock-off this module. You can have them installed as:\n",
        "`install.packages(c('tidyverse', 'patchwork', 'paletteer', 'statip'))`\n",
        "\n",
        "Alternatively, the script below checks whether you have the packages required to complete this module and installs them for you in case some are missing.\n",
        "\n",
        "\n"
      ],
      "metadata": {
        "id": "eTw1gVd8cpAm"
      }
    },
    {
      "cell_type": "code",
      "execution_count": null,
      "source": [
        "suppressWarnings(if(!require(\"pacman\")) install.packages(\"pacman\"))\r\n",
        "\r\n",
        "pacman::p_load(tidyverse, patchwork, paletteer, statip)"
      ],
      "outputs": [],
      "metadata": {
        "id": "ISVqqzYuvxbZ"
      }
    },
    {
      "cell_type": "markdown",
      "source": [
        "## 1. Getting to know R ... a little\n",
        "\n",
        "I've heard R described as quirky. But quirky is good, it means it's a little bit out of the norm. And I think that's what makes R, R. So to easen things up, we'll briefly discuss some of the most important family of data types in base R: `vectors`.\n",
        "\n",
        "> In R, **assignment** statements have the following form:\n",
        ">\n",
        "> `object_name <- value`\n",
        ">\n",
        "> `=` will work in place of `<-`, but it could cause confusion later. \n",
        "\n",
        "### Atomic vectors\n",
        "\n",
        "The basic data structure in R is the [vector](https://r4ds.had.co.nz/vectors.html?q=list#vectors) (R's 1D data structure). Vectors come in two flavours: *atomic vectors* and *lists*. The two differ in the types of their elements: all elements of an atomic vector must be the same type, whereas the elements of a list can have different types. There are four primary types of atomic vectors: *logical*, *integer*, *double*, and *character* (which contains strings).\n",
        "\n",
        "Vectors are created using use [`c()`](https://rdrr.io/r/base/c.html), short for combine. You can determine the type of a vector with [`typeof()`](https://rdrr.io/r/base/typeof.html) and how many elements it contains with [`length()`](https://rdrr.io/r/base/length.html)."
      ],
      "metadata": {
        "id": "H3l6XbPmc0iR"
      }
    },
    {
      "cell_type": "markdown",
      "source": [
        "<br>\n",
        "Let's create a logical vector and confirm its type"
      ],
      "metadata": {
        "id": "2T_pM3xmd4U-"
      }
    },
    {
      "cell_type": "code",
      "execution_count": null,
      "source": [
        "# Logical vector\r\n",
        "lgl_var <- c(TRUE, FALSE)\r\n",
        "\r\n",
        "typeof(lgl_var)\r\n"
      ],
      "outputs": [],
      "metadata": {
        "id": "Z0MMmXbxeL2u"
      }
    },
    {
      "cell_type": "markdown",
      "source": [
        "What about a vector of type *double*? Doubles are special values defined by the floating point standard."
      ],
      "metadata": {
        "id": "oM7L36j0ePim"
      }
    },
    {
      "cell_type": "code",
      "execution_count": null,
      "source": [
        "# Double vector: \r\n",
        "dbl_var <- c(1, 2.5, 4.5)\r\n",
        "\r\n",
        "print(dbl_var)"
      ],
      "outputs": [],
      "metadata": {
        "id": "_6ji3toTekH9"
      }
    },
    {
      "cell_type": "markdown",
      "source": [
        "Integers are written similarly to doubles but must be followed by *L*. They are numbers without decimal points."
      ],
      "metadata": {
        "id": "fcquZEbsenE1"
      }
    },
    {
      "cell_type": "code",
      "execution_count": null,
      "source": [
        "# Integer vector: \r\n",
        "int_var <- c(1L, 6L, 10L)\r\n",
        "\r\n",
        "int_var"
      ],
      "outputs": [],
      "metadata": {
        "id": "2-rmy7emerhe"
      }
    },
    {
      "cell_type": "markdown",
      "source": [
        "Characters are surrounded by `\" \"` or `' '`"
      ],
      "metadata": {
        "id": "licmspRpezVO"
      }
    },
    {
      "cell_type": "code",
      "execution_count": null,
      "source": [
        "# Character vector\r\n",
        "chr_var <- c(\"these are\", \"some\",\"stranger strings\")\r\n",
        "\r\n",
        "chr_var\r\n",
        "\r\n",
        "length(chr_var)"
      ],
      "outputs": [],
      "metadata": {
        "id": "cgZFgCYBe1H3"
      }
    },
    {
      "cell_type": "markdown",
      "source": [
        "Adding a `dim` attribute to a vector allows it to behave like a 2-dimensional **matrix** or a multi-dimensional **array**.\n",
        "\n",
        "You can create matrices and arrays with [`matrix()`](https://rdrr.io/r/base/matrix.html) and [`array()`](https://rdrr.io/r/base/array.html), or by using the assignment form of [`dim()`](https://rdrr.io/r/base/dim.html): We'll use `dim` in this walk through. See how to use `matrix` or `array` by typing `?matrix` or `?array` on your RStudio console."
      ],
      "metadata": {
        "id": "Js39i1M7fJ86"
      }
    },
    {
      "cell_type": "code",
      "execution_count": null,
      "source": [
        "# Sequence of integers starting from 1 to 6\r\n",
        "int_seq <- 1:6"
      ],
      "outputs": [],
      "metadata": {
        "id": "o9nXm8D8fLX9"
      }
    },
    {
      "cell_type": "markdown",
      "source": [
        "For example, you can reorganize `int_seq` into a 2 × 3 matrix (which has 2 rows and 3 columns):"
      ],
      "metadata": {
        "id": "Yop6BRmpfO5K"
      }
    },
    {
      "cell_type": "code",
      "execution_count": null,
      "source": [
        "dim(int_seq) <- c(2,3)\r\n",
        "print(int_seq)"
      ],
      "outputs": [],
      "metadata": {
        "id": "l8auWjTnfVEL"
      }
    },
    {
      "cell_type": "markdown",
      "source": [
        "In R, `data frames` (which we'll cover in just a lil bit), are the most common way of storing and analyzing data. However, vectors too can suffice for general and basic data manipulation\n",
        "\n",
        "With that said, let's take atomic vectors out for a try!\n",
        "\n",
        "We'll start by looking at some simple data. Suppose a college takes a sample of student grades for a grades science class:"
      ],
      "metadata": {
        "id": "nRO6hpu8fXrD"
      }
    },
    {
      "cell_type": "code",
      "execution_count": null,
      "source": [
        "# Defining a vector of student grades\r\n",
        "grades <-  c(50, 50, 47, 97, 49, 3, 53, 42, 26,\r\n",
        "             74, 82, 62, 37, 15, 70, 27, 36, 35,\r\n",
        "             48, 52, 63, 64)\r\n",
        "\r\n",
        "             \r\n",
        "print(grades)"
      ],
      "outputs": [],
      "metadata": {
        "id": "RtfVk3-pfh1z"
      }
    },
    {
      "cell_type": "markdown",
      "source": [
        "So, how many students does the sample contain 🗒?"
      ],
      "metadata": {
        "id": "faCmYwBxfpdX"
      }
    },
    {
      "cell_type": "code",
      "execution_count": null,
      "source": [
        "# Determining number of elements in the vector\r\n",
        "length(grades)"
      ],
      "outputs": [],
      "metadata": {
        "id": "TW_V3aL-fsm8"
      }
    },
    {
      "cell_type": "markdown",
      "source": [
        "### **Indexing Vectors**\n",
        "\n",
        "Oftentimes we may want to access only part of a vector, or perhaps an individual element. This is called *indexing* and is accomplished with square brackets, `[]`. R has a very flexible system that gives us several choices of index:\n",
        "\n",
        "-   Passing a vector of positive numbers returns the slice of the vector containing the elements at those locations. The `first` position is `1` (not 0, as in some other languages).\n",
        "\n",
        "-   Passing a vector of `negative numbers` returns the slice of the vector containing the elements everywhere *except* at those locations.\n",
        "\n",
        "Let's get the first and sixth grade:"
      ],
      "metadata": {
        "id": "t_zV08wSfwu5"
      }
    },
    {
      "cell_type": "code",
      "execution_count": null,
      "source": [
        "# we should expect 50 & 3\r\n",
        "grades[c(1,6)]"
      ],
      "outputs": [],
      "metadata": {
        "id": "_FCQsHGMf6AE"
      }
    },
    {
      "cell_type": "markdown",
      "source": [
        "Perfect! Now let's get a vector of all grades except for the 1st and the 6th student."
      ],
      "metadata": {
        "id": "IH0LTdZUf9F7"
      }
    },
    {
      "cell_type": "code",
      "execution_count": null,
      "source": [
        "# we should expect all other grades except at index 1 and 6\r\n",
        "grades[-c(1,6)]"
      ],
      "outputs": [],
      "metadata": {
        "id": "GIEU9GVzgAJv"
      }
    },
    {
      "cell_type": "markdown",
      "source": [
        "Alright, now we know our way around vectors, enough to knock out this module 💪.\n",
        "\n",
        "> The chapter [Vectors](https://r4ds.had.co.nz/vectors.html) in `R for Data Science` would be a good place to get you started on all things atomic vectors, lists (which we didn't cover), and a whole lot on base R data structures! Be sure to check it out.\n",
        "\n",
        "It's time we performed some analysis of the grades data. For a first, we can find the simple average grade (in other words, the *mean* grade value)."
      ],
      "metadata": {
        "id": "4-AdvjflgDIz"
      }
    },
    {
      "cell_type": "code",
      "execution_count": null,
      "source": [
        "mean(grades)"
      ],
      "outputs": [],
      "metadata": {
        "id": "sBE6hX30gK16"
      }
    },
    {
      "cell_type": "markdown",
      "source": [
        "So the mean grade is just around 50 - more or less in the middle of the possible range from 0 to 100."
      ],
      "metadata": {
        "id": "WFBvm2L0gSWe"
      }
    },
    {
      "cell_type": "markdown",
      "source": [
        "### **Combining vectors**\n",
        "\n",
        "Let's add a second set of data for the same students, this time recording the typical number of hours per week they devoted to studying."
      ],
      "metadata": {
        "id": "q51d9SsAgWZX"
      }
    },
    {
      "cell_type": "code",
      "execution_count": null,
      "source": [
        "# Defining a vector of study hours\r\n",
        "study_hours <- c(10.0, 11.5, 9.0, 16.0, 9.25, 1.0, 11.5, 9.0,\r\n",
        "                 8.5, 14.5, 15.5, 13.75, 9.0, 8.0, 15.5, 8.0,\r\n",
        "                 9.0, 6.0, 10.0, 12.0, 12.5, 12.0)"
      ],
      "outputs": [],
      "metadata": {
        "id": "buKSHJcegaYh"
      }
    },
    {
      "cell_type": "markdown",
      "source": [
        "We can create a 2-dimensional **matrix** from `grades` and `study_hours` by combining the vectors by columns using `cbind()`"
      ],
      "metadata": {
        "id": "P11A1Htugdjj"
      }
    },
    {
      "cell_type": "code",
      "execution_count": null,
      "source": [
        "# Create a 2D matrix\r\n",
        "student_data <- cbind(study_hours, grades)\r\n",
        "print(student_data)"
      ],
      "outputs": [],
      "metadata": {
        "id": "cxSb8OhRgi6Q"
      }
    },
    {
      "cell_type": "markdown",
      "source": [
        "Before going into anything complex, we might want to find out the dimensions of our object. Turns out, `dim()` can also help you retrieve the number of rows and columns of an object."
      ],
      "metadata": {
        "id": "4lI-htE8gq3b"
      }
    },
    {
      "cell_type": "code",
      "execution_count": null,
      "source": [
        "# Dimension of the resulting matrix [Rows, Columns]\r\n",
        "dim(student_data)"
      ],
      "outputs": [],
      "metadata": {
        "id": "8TXEKuChguPh"
      }
    },
    {
      "cell_type": "markdown",
      "source": [
        "As expected 🤩, the matrix contains 2 columns each with 22 rows.\n",
        "\n",
        "We subset matrices using the notation `[row_number,column_number]`\n",
        "\n",
        "So, for instance, if we wanted to access the first element in the in the first column (study_hours), we would do it as below:"
      ],
      "metadata": {
        "id": "b8wUPg9Cg0DP"
      }
    },
    {
      "cell_type": "code",
      "execution_count": null,
      "source": [
        "# Show the first element of the first column\r\n",
        "student_data[1, 1]"
      ],
      "outputs": [],
      "metadata": {
        "id": "rXITpaFvg5YV"
      }
    },
    {
      "cell_type": "markdown",
      "source": [
        "Accessing all the elements in the first row would also follow a similar fashion:"
      ],
      "metadata": {
        "id": "LfxauAwMhLCk"
      }
    },
    {
      "cell_type": "code",
      "execution_count": null,
      "source": [
        "# Show all columns in the first row\r\n",
        "student_data[1,]"
      ],
      "outputs": [],
      "metadata": {
        "id": "lvcQOwvBhOXS"
      }
    },
    {
      "cell_type": "markdown",
      "source": [
        "Now we have a multidimensional array containing both the student's study time and grade information, which you can use to compare data. For example, how does the mean study time compare to the mean grade?"
      ],
      "metadata": {
        "id": "pXVhIebQhTEC"
      }
    },
    {
      "cell_type": "code",
      "execution_count": null,
      "source": [
        "# Get the mean value of each subvector in the matrix\r\n",
        "avg_study <- mean(student_data[, 1])\r\n",
        "avg_grade <- mean(student_data[, 2])\r\n",
        "\r\n",
        "# Format strings using package 'glue'\r\n",
        "library(glue)\r\n",
        "glue(\r\n",
        "  'Average study hours: {format(round(avg_study, 2), nsmall = 2)}\r\n",
        "  Average grade: {format(round(avg_grade, 2), nsmall = 2)}')"
      ],
      "outputs": [],
      "metadata": {
        "id": "dlkp3N4ThZtZ"
      }
    },
    {
      "cell_type": "markdown",
      "source": [
        "### **Analysis using atomic vectors and matrices? Not so fast...** 🤷\n",
        "\n",
        "One shortcoming of atomic vectors and matrices is that they can only hold one mode of data; they don't allow us to mix, say, numbers and character strings. If we try to do so, it will change the mode of the other elements in the vector to conform. Let's see this in action:\n"
      ],
      "metadata": {
        "id": "tOR2K6guhhJ0"
      }
    },
    {
      "cell_type": "code",
      "execution_count": null,
      "source": [
        "# Modifying grades by adding a character string \"22\"\r\n",
        "grades_mod1 <- c(grades, \"22\")\r\n",
        "\r\n",
        "# Adding a character tranforms `grades` to a character vector\r\n",
        "typeof(grades_mod1)"
      ],
      "outputs": [],
      "metadata": {
        "id": "xcLHLI0Phiya"
      }
    },
    {
      "cell_type": "markdown",
      "source": [
        "Let's take a look at the fine print!"
      ],
      "metadata": {
        "id": "HRkmoYsdhndX"
      }
    },
    {
      "cell_type": "code",
      "execution_count": null,
      "source": [
        "# Modified grades\r\n",
        "print(grades_mod1)\r\n",
        "\r\n",
        "# Original grades\r\n",
        "print(grades)"
      ],
      "outputs": [],
      "metadata": {
        "id": "S4WryQMChqPe"
      }
    },
    {
      "cell_type": "markdown",
      "source": [
        "From the `print()` output, we can notice that the numbers got changed to character values so that the vector could accommodate all the elements we passed to the `c()` function. As such, further analysis like finding the mean would be quite a pain to say the least!"
      ],
      "metadata": {
        "id": "iykkNqGAhuwP"
      }
    },
    {
      "cell_type": "code",
      "execution_count": null,
      "source": [
        "mean(grades_mod1)"
      ],
      "outputs": [],
      "metadata": {
        "id": "kyfiJ8Jghyj2"
      }
    },
    {
      "cell_type": "markdown",
      "source": [
        "In R, a special object known as a `data frame` resolves this problem 🦸.\r\n",
        "\r\n",
        "## 2. A glimpse into the tidyverse\r\n",
        "\r\n",
        "### Data frames and tibbles\r\n",
        "\r\n",
        "Data frames are one of the biggest and most important ideas in R, and one of the things that make R different from other programming languages. A data frame is a rectangular collection of variables (in the columns) and observations (in the rows).\r\n",
        "\r\n",
        "They are considered as far and away the most useful storage structure for data analysis.\r\n",
        "\r\n",
        "Data frames can be thought as R's equivalent to the Excel spreadsheet because it stores data in a similar format. A high-level overview of data frames is:\r\n",
        "\r\n",
        "-   Data frames group vectors together into a two-dimensional table.\r\n",
        "\r\n",
        "-   Each vector becomes a column in the table.\r\n",
        "\r\n",
        "-   Each column of a data frame can be a different data type.\r\n",
        "\r\n",
        "-   Every column in a data frame must be the same length.\r\n",
        "\r\n",
        "R is an old language and over the course of time, the ways (and reasons) that people use R have changed, and some of the design decisions that made sense at the time data frames were created now cause frustration.\r\n",
        "\r\n",
        "This frustration lead to the creation of the `tibble`, a modern reimagining of the data frame, that keeps what time has proven to be effective and retiring what is not.\r\n",
        "\r\n",
        "Tibble is a part of the **tidyverse**, an opinionated [**collection of R packages**](https://www.tidyverse.org/packages) that make the data science workflow (such as importing, wranging, visualising, programming and modelling) faster, easier and more fun.\r\n",
        "\r\n",
        "> *The easiest way to get tibble or any other package in the tidyverse is to install the whole tidyverse:*\r\n",
        ">\r\n",
        "> `install.packages(\"tidyverse\")`\r\n",
        "\r\n",
        "We'll create a tibble by specifying a vector of student names, then wrap it together with the existing study_hours and grades vectors."
      ],
      "metadata": {
        "id": "S3fDSGbWh2A3"
      }
    },
    {
      "cell_type": "code",
      "execution_count": null,
      "source": [
        "# Load the core tidyverse and make it available in your current R session.\r\n",
        "library(tidyverse)\r\n",
        "\r\n",
        "# Build a data frame df_students using tibble()\r\n",
        "df_students <- tibble(\r\n",
        "  \r\n",
        "  Name = c('Dan', 'Joann', 'Pedro', 'Rosie', 'Ethan', 'Vicky',\r\n",
        "           'Frederic', 'Jimmie', 'Rhonda', 'Giovanni',\r\n",
        "           'Francesca', 'Rajab', 'Naiyana', 'Kian', 'Jenny',\r\n",
        "           'Jakeem','Helena','Ismat','Anila','Skye','Daniel',\r\n",
        "           'Aisha'),\r\n",
        "  \r\n",
        "  StudyHours = study_hours,\r\n",
        "  \r\n",
        "  Grade = grades)\r\n",
        "\r\n",
        "# Print the data frame\r\n",
        "\r\n",
        "print(df_students)"
      ],
      "outputs": [],
      "metadata": {
        "id": "8ZObGA_liXAZ"
      }
    },
    {
      "cell_type": "markdown",
      "source": [
        "### Tidyverse's dplyr \r\n",
        "\r\n",
        "`dplyr`, part of the tidyverse, is a grammar of data manipulation, providing a consistent set of verbs that makes it easier for us to work with data.\r\n",
        "\r\n",
        "[dplyr::slice()](https://dplyr.tidyverse.org/reference/slice.html) allows you to select, remove, and duplicate rows by their (integer) locations.\r\n",
        "\r\n",
        "Let's start by retrieving data for a specific index. Remember indexing in R starts at `1`.\r\n",
        "\r\n",
        "We can also get the data at a range of integer locations, like this:"
      ],
      "metadata": {
        "id": "cBVe8bmsindW"
      }
    },
    {
      "cell_type": "code",
      "execution_count": null,
      "source": [
        "# Get the rows with index values from 1 to 6\r\n",
        "slice(df_students, 1:6)"
      ],
      "outputs": [],
      "metadata": {
        "id": "qJa8eq7Eip2q"
      }
    },
    {
      "cell_type": "markdown",
      "source": [
        "Often, there are multiple ways to achieve the same results. Here are other subtle ways of subsetting data frames:\n",
        "\n",
        "**Using [] to subset rows 5:10 and columns 1&3**"
      ],
      "metadata": {
        "id": "rYhfWFi3itwK"
      }
    },
    {
      "cell_type": "code",
      "execution_count": null,
      "source": [
        "df_students[5:10, c(1, 3)]"
      ],
      "outputs": [],
      "metadata": {
        "id": "lPxYZEWyiyAs"
      }
    },
    {
      "cell_type": "markdown",
      "source": [
        "**Using `%>%`, `filter`, and `select` to subset rows 5:10 and columns 1&3**\n",
        "\n",
        "Let's brush over some new concepts we'll encounter in the example below:\n",
        "\n",
        "-   Introducing the pipe operator (`%>%`): performs operations in logical sequence by passing an object forward into a function or call expression. You can think of the pipe operator as saying \"and then\" in your code.\n",
        "\n",
        "-   [`dplyr::filter()`](https://dplyr.tidyverse.org/reference/filter.html): creates a subset of the data only containing **rows** that satisfy your conditions.\n",
        "\n",
        "-   [`dplyr::select()`](https://dplyr.tidyverse.org/reference/select.html): helps you pick which **columns** to keep or exclude."
      ],
      "metadata": {
        "id": "inDg1y_Ai3hI"
      }
    },
    {
      "cell_type": "code",
      "execution_count": null,
      "source": [
        "# Tell R the data frame\r\n",
        "# AND THEN\r\n",
        "# Use filter() to get rows whose row_number() is between 5:10\r\n",
        "# AND THEN\r\n",
        "# use select() to select columns 1&3\r\n",
        "df_students %>% \r\n",
        "  filter(between(row_number(), 5, 10)) %>% \r\n",
        "  select(1, 3)"
      ],
      "outputs": [],
      "metadata": {
        "id": "3cXsYGI5i95l"
      }
    },
    {
      "cell_type": "markdown",
      "source": [
        "Voila! There you have it! With the longevity and evolution R has had since its inception 20 years ago, you can be assured of multiple solutions to a task. And that in itself is amazing!\n",
        "\n",
        "Sometimes, you may want to find which row index in a column matches a particular expression. The following trick will do:"
      ],
      "metadata": {
        "id": "KIPab4gDjCSn"
      }
    },
    {
      "cell_type": "code",
      "execution_count": null,
      "source": [
        "# which (): Gives which indices are TRUE\r\n",
        "# `$`: used to access column values as a vector\r\n",
        "\r\n",
        "which(df_students$Name == \"Aisha\")"
      ],
      "outputs": [],
      "metadata": {
        "id": "jiovoMXMjHLm"
      }
    },
    {
      "cell_type": "markdown",
      "source": [
        "A dplyr approach of the same:"
      ],
      "metadata": {
        "id": "LkJ-l0frjQVS"
      }
    },
    {
      "cell_type": "code",
      "execution_count": null,
      "source": [
        "# Select the column `Name` then find which row index contains \"Aisha\"\r\n",
        "which(select(df_students, Name) == \"Aisha\")"
      ],
      "outputs": [],
      "metadata": {
        "id": "qGiZP2rmjVfT"
      }
    },
    {
      "cell_type": "markdown",
      "source": [
        "Pipe 🚀 your way into `dplyr` using the [data transformation chapter](https://r4ds.had.co.nz/transform.html) in `R for data science`.\n",
        "\n",
        "## 3. Loading data from a file\n",
        "\n",
        "We constructed a data frame from some existing vectors which we typed by hand in our console or markdown. However, typing invites typos and errors. In many real-world scenarios, data is loaded from sources such as files. You can then ask R to read the file and store the contents as an object.\n",
        "\n",
        "Let's replace the student grades data frame with the contents of a text file from the [original repo](https://github.com/MicrosoftDocs/ml-basics) of this course.\n"
      ],
      "metadata": {
        "id": "-Q_GHyogjcXB"
      }
    },
    {
      "cell_type": "code",
      "execution_count": null,
      "source": [
        "# Get the url of the raw version of the grades.csv data\r\n",
        "url_data <- \"https://raw.githubusercontent.com/MicrosoftDocs/ml-basics/master/data/grades.csv\"\r\n",
        "\r\n",
        "df_students <- read_csv(url_data)\r\n",
        "\r\n",
        "# Print the data frame\r\n",
        "df_students"
      ],
      "outputs": [],
      "metadata": {
        "id": "j0VxYqrIjmfj"
      }
    },
    {
      "cell_type": "markdown",
      "source": [
        "Notice that the data are already in *tidy format* - meaning that:\n",
        "\n",
        "-   Each variable is a column\n",
        "\n",
        "-   Each observation is a row\n",
        "\n",
        "-   Each value is in its own cell"
      ],
      "metadata": {
        "id": "gpXt5tUmjx7E"
      }
    },
    {
      "cell_type": "markdown",
      "source": [
        "Oh 😯! Look what we've got here: `NA`s and they bring us to the next part of our adventure.\n",
        "\n",
        "### Handling missing values\n",
        "\n",
        "One of the most common issues data scientists need to deal with is incomplete or missing data. R represents missing, or unknown values, with special sentinel value: `NA` (Not Available).\n",
        "\n",
        "So how would we know that the data frame contains missing values?\n",
        "\n",
        "-   One way to know if our data contains any `NA`s in two shakes would be to use the generic function `anyNA`"
      ],
      "metadata": {
        "id": "J3GdHw-gkAuE"
      }
    },
    {
      "cell_type": "code",
      "execution_count": null,
      "source": [
        "df_students %>% \r\n",
        "  anyNA()"
      ],
      "outputs": [],
      "metadata": {
        "id": "5GSY7eKAkGcZ"
      }
    },
    {
      "cell_type": "markdown",
      "source": [
        "-   Another way would be to use the generic function `is.na()` which indicates which individual elements are missing with a logical `TRUE`."
      ],
      "metadata": {
        "id": "DswX1LMdkKRL"
      }
    },
    {
      "cell_type": "code",
      "execution_count": null,
      "source": [
        "is.na(df_students)"
      ],
      "outputs": [],
      "metadata": {
        "id": "Xy4G_PLakNQE"
      }
    },
    {
      "cell_type": "markdown",
      "source": [
        "Okay, got the job done but with a larger data frame, it would be inefficient and practically impossible to review all of the rows and columns individually😴.\n",
        "\n",
        "-   Another more intuitive way would be to get the sum of missing values for each column, like this:"
      ],
      "metadata": {
        "id": "2SO9jVqckRDI"
      }
    },
    {
      "cell_type": "code",
      "execution_count": null,
      "source": [
        "colSums(is.na(df_students))"
      ],
      "outputs": [],
      "metadata": {
        "id": "L_Jam-yckVTw"
      }
    },
    {
      "cell_type": "markdown",
      "source": [
        "So now we know that there's `one` missing value in the **StudyHours** column, and `two` missing values in the **Grade** column.\n",
        "\n",
        "To see them in context, we can filter the data frame to include only rows where any of the columns have an `NA`. The code below returns the rows where there is an `NA` in at least one of the column.\n",
        "\n",
        "> *`if_any()` applies the same predicate function to a selection of columns and combines the results into a single logical vector.*\n",
        ">\n",
        "> *`everything()` selects all columns.*"
      ],
      "metadata": {
        "id": "bb-dXWlekX-F"
      }
    },
    {
      "cell_type": "code",
      "execution_count": null,
      "source": [
        "df_students %>% \r\n",
        "  filter(if_any(everything(), is.na))"
      ],
      "outputs": [],
      "metadata": {
        "id": "x3KuN5_rkhWC"
      }
    },
    {
      "cell_type": "markdown",
      "source": [
        "So now that we've found the null values, what can we do about them?\r\n",
        "\r\n",
        "One common approach is to *impute* replacement values. For example, if the number of study hours is missing, we could just assume that the student studied for an average amount of time and replace the missing value with the mean study hours.\r\n",
        "\r\n",
        "To do this, we can use the `tidyr::replace_na` that replaces NAs with specified values.\r\n",
        "\r\n",
        "> *`tidyr` is a part of the tidyverse and its goal is to help you create **tidy data**. The chapter [Tidy data](https://r4ds.had.co.nz/tidy-data.html#tidy-data) in `R for Data Science` would be a good place to get you started on the tidying up messy datasets.*\r\n",
        "\r\n",
        "Alright, how would we go about modifying existing columns?\r\n",
        "\r\n",
        "Meet `dplyr::mutate`, the magical word that allows us to modify or even create new columns, while keeping the existing columns.\r\n",
        "\r\n",
        "![Artwork by \\@allison_horst](images/dplyr_mutate.png){width=\"169\"}"
      ],
      "metadata": {
        "id": "agmuzS2Rksyt"
      }
    },
    {
      "cell_type": "code",
      "execution_count": null,
      "source": [
        "# Replace NA in column StudyHours with the mean study hours\r\n",
        "df_students <- df_students %>% \r\n",
        "  mutate(StudyHours = replace_na(StudyHours, mean(StudyHours, na.rm = T)))\r\n",
        "\r\n",
        "# Show the data frame\r\n",
        "df_students"
      ],
      "outputs": [],
      "metadata": {
        "id": "uUNHAJUvk0wC"
      }
    },
    {
      "cell_type": "markdown",
      "source": [
        "Good job!\n",
        "\n",
        "Alternatively, it might be important to ensure that you only use data you know to be absolutely correct; so you can drop rows that contain null values by using `tidyr::drop_na` method. In this case, we'll remove rows where any of the columns contain NA values."
      ],
      "metadata": {
        "id": "gIsk4TwhlAv1"
      }
    },
    {
      "cell_type": "code",
      "execution_count": null,
      "source": [
        "# Drop NAs\r\n",
        "df_students <- df_students %>% \r\n",
        "                  drop_na()\r\n",
        "\r\n",
        "df_students"
      ],
      "outputs": [],
      "metadata": {
        "id": "Y9haZExNlE25"
      }
    },
    {
      "cell_type": "markdown",
      "source": [
        "Amazing! Our data is much more tidy-r! 💫\n",
        "\n",
        "## 4. Explore data in the data frame\n",
        "\n",
        "Now that we've cleaned up the missing values, we're ready to explore the data in the data frame. Let's start by comparing the mean study hours and grades."
      ],
      "metadata": {
        "id": "nvFrfN_QlIOc"
      }
    },
    {
      "cell_type": "code",
      "execution_count": null,
      "source": [
        "# Get the mean study hours using the accessor `$` \r\n",
        "mean_study <- mean(df_students$StudyHours)\r\n",
        "\r\n",
        "\r\n",
        "# Get the mean grade sequentially using ` %>% ` and dplyr::pull\r\n",
        "mean_grade <- df_students %>% \r\n",
        "                pull(Grade) %>% \r\n",
        "                  mean()\r\n",
        "\r\n",
        "\r\n",
        "# Glue it all together\r\n",
        "glue(\r\n",
        "  'Average weekly study hours: {format(round(mean_study, 2), nsmall = 2)}\r\n",
        "   Average grade: {format(round(mean_grade, 2), nsmall = 2)}')"
      ],
      "outputs": [],
      "metadata": {
        "id": "DK_88YxolOhI"
      }
    },
    {
      "cell_type": "markdown",
      "source": [
        "Time to do some basic data wrangling with dplyr verbs\n",
        "\n",
        "We'll start with filtering the data frame to find only the students who studied for more than the average amount of time."
      ],
      "metadata": {
        "id": "LljiCL0elYT0"
      }
    },
    {
      "cell_type": "code",
      "execution_count": null,
      "source": [
        "df_students %>%\r\n",
        "  filter(StudyHours > mean_study)"
      ],
      "outputs": [],
      "metadata": {
        "id": "j5PXNDgOlg0P"
      }
    },
    {
      "cell_type": "markdown",
      "source": [
        "Note that the filtered result retained the attributes of the original tibble/data frame and is a tibble, so you can work with its rows and columns just like any other tibble.\n",
        "\n",
        "For example, let's find the average grade for students who undertook more than the average amount of study time."
      ],
      "metadata": {
        "id": "1qpqAIsiljGD"
      }
    },
    {
      "cell_type": "code",
      "execution_count": null,
      "source": [
        "df_students %>% \r\n",
        "  filter(StudyHours > mean_study) %>% \r\n",
        "  pull(Grade) %>% \r\n",
        "  mean()"
      ],
      "outputs": [],
      "metadata": {
        "id": "SwROCVC6lmvB"
      }
    },
    {
      "cell_type": "markdown",
      "source": [
        "Let's assume that the passing grade for the course is 60.\n",
        "\n",
        "We can use that information to add a new column to the data frame, indicating whether or not each student passed.\n",
        "\n",
        "Of course, there are multiple way to achieve this but in this example, we'll result to a simple, lazy way to achieve a TRUE/FALSE indicator 🙇.\n",
        "\n",
        "Once again, `dplyr::mutate()` will be on full display! The general structure of adding new columns is:\n",
        "\n",
        "`df %>% mutate(new_column_name = what_it_contains)`\n",
        "\n",
        "Let's go forth and mutate!"
      ],
      "metadata": {
        "id": "WybPiNi7lt6_"
      }
    },
    {
      "cell_type": "code",
      "execution_count": null,
      "source": [
        "# TRUE/FALSE column based on conditions\r\n",
        "df_students <- df_students %>% \r\n",
        "                  mutate(Pass = (Grade >= 60 ))\r\n",
        "                  \r\n",
        "df_students"
      ],
      "outputs": [],
      "metadata": {
        "id": "1S96psPSlyKu"
      }
    },
    {
      "cell_type": "markdown",
      "source": [
        "Data frames are designed for tabular data, and you can use them to perform many of the kinds of data analytics operation you can do in a relational database; such as grouping and aggregating tables of data. In R, this is achieved using `dplyr::group_by() %>% summarize()`\n",
        "\n",
        "-   `dplyr::group_by()` changes the unit of analysis from the complete dataset to individual groups.\n",
        "\n",
        "-   `dplyr::summarize()` creates a new data frame with one column for each grouping variable and one column for each of the summary statistics that you have specified.\n",
        "\n",
        "For example, we can use the `dplyr::group_by() %>% summarize()` to group the student data into groups based on the **Pass** column and then find the mean study time and grade for the groups of students who passed and failed the course.\n",
        "\n",
        "Since we are applying the same function, `mean`, across multiple columns, `dplyr::across` will do the heavy lifting for us and reduce the code we'll have to write."
      ],
      "metadata": {
        "id": "1ZnS7RyXl8XL"
      }
    },
    {
      "cell_type": "code",
      "execution_count": null,
      "source": [
        "# Group students based on Pass column then find mean of study time and grade\r\n",
        "df_students %>% \r\n",
        "  group_by(Pass) %>% \r\n",
        "  summarise(across(c(StudyHours, Grade), mean))"
      ],
      "outputs": [],
      "metadata": {
        "id": "Ya7_TZIPmCtG"
      }
    },
    {
      "cell_type": "markdown",
      "source": [
        "What if we wanted to determine how many students passed or failed? We'd have to group our data based on the `Pass` column, then do a tally for each group. `dplyr::count()` wraps all this to give you a nice grouped count!"
      ],
      "metadata": {
        "id": "HIR16gRemH2V"
      }
    },
    {
      "cell_type": "code",
      "execution_count": null,
      "source": [
        "df_students %>% \r\n",
        "  count(Pass)"
      ],
      "outputs": [],
      "metadata": {
        "id": "TzEi26d0mNud"
      }
    },
    {
      "cell_type": "markdown",
      "source": [
        "It's worth mentioning that `data_frame %>% …` operation returns a new copy of the data frame; so if you want to modify a data frame but keep the existing variable, you need to assign the result of the operation to the existing variable.\n",
        "\n",
        "For example, the following code sorts the student data into descending order of Grade, and assigns the resulting sorted data frame to the original **df_students** variable.\n",
        "\n",
        "To do this, we'll need to reach into dplyr and take one more verb: `arrange()`. It orders the rows of a data frame by column values."
      ],
      "metadata": {
        "id": "nVD6PNFimQcz"
      }
    },
    {
      "cell_type": "code",
      "execution_count": null,
      "source": [
        "# Create a data frame with the data sorted by Grade (descending)\r\n",
        "df_students <- df_students %>%\r\n",
        "  # Sort by descending order\r\n",
        "  arrange(desc(Grade)) %>% \r\n",
        "  # Explicitly defining 'Name' as categorical and ensuring its levels follow the descending order\r\n",
        "  mutate(Name = factor(Name) %>% fct_inorder())\r\n",
        "\r\n",
        "\r\n",
        "# Show the data frame\r\n",
        " df_students "
      ],
      "outputs": [],
      "metadata": {
        "id": "GrSvXVOdmWNq"
      }
    },
    {
      "cell_type": "markdown",
      "source": [
        "> *In R, factors are used to work with categorical variables such as the students' names column. Once created, factors can only contain a pre-defined set values, known as levels. By default, R always sorts levels in alphabetical order. In the above example, we converted the `Name` column from type character to `factor` and specified that the levels (student names), will always follow the descending order.*\r\n",
        ">\r\n",
        "> *Know your way around factors with the [factors chapter](https://r4ds.had.co.nz/factors.html) in R for Data Science.*\r\n",
        "\r\n",
        "## 5. Data visualization with ggplot2\r\n",
        "\r\n",
        "![Artwork by \\@allison_horst](images/ggplot2_masterpiece.png){width=\"169\"}"
      ],
      "metadata": {
        "id": "e1Y4LQIomZK2"
      }
    },
    {
      "cell_type": "markdown",
      "source": [
        "Tibbles/data frames provide a great way to explore and analyze tabular data but I've heard it said:\r\n",
        "\r\n",
        "> \"The simple graph has brought more information to the data analyst's mind than any other device.\" --- John Tukey\r\n",
        "\r\n",
        "R has several systems for making graphs, but `ggplot2` is one of the most elegant and most versatile.\r\n",
        "\r\n",
        "ggplot2 is designed to work **iteratively**. You start with a layer that shows the raw data. Then you add layers of annotations and statistical summaries. That's why the ggplot2 artwork contains monsteRs carrying different stuff 😄.\r\n",
        "\r\n",
        "This allows you to compose graphs by **combining independent components**.\r\n",
        "\r\n",
        "Let's start with a simple bar chart that shows the grade of each student.\r\n",
        "\r\n",
        "So in this case, we'll start with [`ggplot()`](https://ggplot2.tidyverse.org/reference/ggplot.html), supply a dataset and aesthetic mapping (with [`aes()`](https://ggplot2.tidyverse.org/reference/aes.html)) then add a layers (like [`geom_bar()`](https://ggplot2.tidyverse.org/reference/geom_bar.html)) for bar charts."
      ],
      "metadata": {
        "id": "MsApjpDems7f"
      }
    },
    {
      "cell_type": "code",
      "execution_count": null,
      "source": [
        "ggplot(data = df_students, aes(x = Name, y = Grade))+\r\n",
        "  geom_bar(stat = \"identity\")"
      ],
      "outputs": [],
      "metadata": {
        "id": "1s_q8tZzmvN6"
      }
    },
    {
      "cell_type": "markdown",
      "source": [
        "Well, that worked; but the chart could use some improvements to make it clearer what we're looking at.\n",
        "\n",
        "For example, the following code:\n",
        "\n",
        "-   Specifies the color of the bar chart.\n",
        "\n",
        "-   Adds a title to the chart (so we know what it represents)\n",
        "\n",
        "-   Adds labels to the X and Y (so we know which axis shows which data)\n",
        "\n",
        "-   Adds a grid (to make it easier to determine the values for the bars)\n",
        "\n",
        "-   Rotates the X markers (so we can read them)"
      ],
      "metadata": {
        "id": "031BykkhmyDS"
      }
    },
    {
      "cell_type": "code",
      "execution_count": null,
      "source": [
        "# Change the theme from grey background\r\n",
        "theme_set(theme_light())\r\n",
        "\r\n",
        "\r\n",
        "ggplot(data = df_students,\r\n",
        "       aes(x = Name, y = Grade))+\r\n",
        "  # Bar chart\r\n",
        "  geom_bar(stat = \"identity\",\r\n",
        "           # Specify color of the bar chart\r\n",
        "           fill = \"midnightblue\", alpha = 0.7)+\r\n",
        "  # Add a title the chart\r\n",
        "    ggtitle('Student Grades')+\r\n",
        "  # Add labels to the x and y\r\n",
        "    xlab('Student')+ ylab('Grade')+\r\n",
        "  theme(\r\n",
        "    # Adds a grid (to make it easier to determine the values for the bars)\r\n",
        "    panel.grid = element_blank(),\r\n",
        "    panel.grid.major.y = element_line(color = '#95a5a6', linetype = 'dashed', size = 0.5),\r\n",
        "    \r\n",
        "    # Center the title\r\n",
        "    plot.title = element_text(hjust = 0.5),\r\n",
        "    \r\n",
        "    # Rotates the X markers (so we can read them)\r\n",
        "    axis.text.x = element_text(angle = 90)\r\n",
        "  )"
      ],
      "outputs": [],
      "metadata": {
        "id": "rMtjwc8Em2tp"
      }
    },
    {
      "cell_type": "markdown",
      "source": [
        "Much better 🤩!\n",
        "\n",
        "We can also layout multiple plots in a single view. For example, the following code creates a figure with two subplots - one is a bar chart showing student grades, and the other is a pie chart (which are basically a stacked bar chart in polar coordinates) comparing the number of passing grades to non-passing grades.\n",
        "\n",
        "[patchwork](https://patchwork.data-imaginist.com/) extends `ggplot` API by providing mathematical operators (such as `+` or `/`) for combining multiple plots. Yes, as easy as that!"
      ],
      "metadata": {
        "id": "9oYUxonQnE8Z"
      }
    },
    {
      "cell_type": "code",
      "execution_count": null,
      "source": [
        "library(patchwork)\r\n",
        "# Create a bar plot of name vs grade\r\n",
        "bar_chart <- ggplot(data = df_students,\r\n",
        "                    aes(x = Name, y = Grade))+\r\n",
        "  geom_bar(stat = \"identity\", fill = \"midnightblue\",\r\n",
        "           alpha = 0.7)+\r\n",
        "  ggtitle('Student Grades')+\r\n",
        "  xlab('Student')+\r\n",
        "  ylab('Grade')+\r\n",
        "  theme(\r\n",
        "    panel.grid = element_blank(),\r\n",
        "    panel.grid.major.y = element_line(color = '#95a5a6', linetype = 'dashed', size = 0.5),\r\n",
        "    plot.title = element_text(hjust = 0.5),\r\n",
        "    axis.text.x = element_text(angle = 90))\r\n",
        "\r\n",
        "# Create a pie chart of pass counts\r\n",
        "pie_chart <- ggplot(data = count(df_students, Pass),\r\n",
        "       aes(x = \"\", y = n, fill = Pass))+\r\n",
        "  geom_bar(stat = \"identity\", width = 1)+\r\n",
        "  coord_polar(theta = \"y\")+\r\n",
        "  geom_text(aes(label = n), position = position_stack(vjust = 0.5))+\r\n",
        "  # Specify colour\r\n",
        "  scale_fill_manual(values = c(\"#0073C2FF\", \"#EFC000FF\"))+\r\n",
        "  xlab(NULL)+\r\n",
        "  ylab(NULL)+\r\n",
        "  ggtitle(\"Passing Grades\")+\r\n",
        "  theme_classic()+\r\n",
        "  theme(\r\n",
        "    plot.title = element_text(hjust = 0.5),\r\n",
        "    axis.line  = element_blank(),\r\n",
        "    axis.text = element_blank(),\r\n",
        "    axis.ticks = element_blank())\r\n",
        "\r\n",
        "\r\n",
        "\r\n",
        "# Compose multiplot layouts using patchwork\r\n",
        "bar_chart + pie_chart"
      ],
      "outputs": [],
      "metadata": {
        "id": "Ngd5oc9enL-R"
      }
    },
    {
      "cell_type": "markdown",
      "source": [
        "> *The [Data visualisation](https://r4ds.had.co.nz/data-visualisation.html) chapter in R for Data Science covers how to make much more elegant visualisations than what we have just done. Be sure to check it out!*\n",
        "\n",
        "## 6. Getting started with statistical analysis\n",
        "\n",
        "Now that you know how to use R to manipulate and visualize data, you can start analyzing it 🎉.\n",
        "\n",
        "A lot of data science is rooted in *statistics*, so we'll explore some basic statistical techniques.\n",
        "\n",
        "> **Note**: This is not intended to teach you statistics - that's much too big a topic for this notebook. It will however introduce you to some statistical concepts and techniques that data scientists use as they explore data in preparation for machine learning modeling.\n",
        "\n",
        "### Descriptive statistics and data distribution\n",
        "\n",
        "When examining a *variable* (for example a sample of student grades), data scientists are particularly interested in its *distribution* (in other words, how are all the different grade values spread across the sample). The starting point for this exploration is often to visualize the data as a `histogram`, and see how frequently each value for the variable occurs.\n",
        "\n",
        "So what `geom` are we going to use? \" [`geom_histogram`](https://ggplot2.tidyverse.org/reference/geom_histogram.html#:~:text=geom_histogram.Rd,display%20the%20counts%20with%20lines.) (or something close)\", you'll say. Because you are already getting the gist/geom of it 🥳!"
      ],
      "metadata": {
        "id": "06cmugEunqt-"
      }
    },
    {
      "cell_type": "code",
      "execution_count": null,
      "source": [
        "# Get the variable to examine\r\n",
        "var_data <- df_students %>% select(Grade)\r\n",
        "\r\n",
        "# Plot a histogram\r\n",
        "var_data %>% \r\n",
        "  ggplot(aes(x = Grade))+\r\n",
        "  geom_histogram(binwidth = 20, fill = \"midnightblue\", alpha = 0.7, boundary = 0.5)+\r\n",
        "  ggtitle('Data Distribution')+\r\n",
        "  xlab('Value')+\r\n",
        "  ylab('Frequency')+\r\n",
        "  theme(plot.title = element_text(hjust = 0.5))"
      ],
      "outputs": [],
      "metadata": {
        "id": "SGgKScjfntWx"
      }
    },
    {
      "cell_type": "markdown",
      "source": [
        "The histogram for grades is a symmetric shape, where the most frequently occurring grades tend to be in the middle of the range (around 50), with fewer grades at the extreme ends of the scale.\n",
        "\n",
        "### Measures of central tendency\n",
        "\n",
        "To understand the distribution better, we can examine so-called *measures of central tendency*; which is a fancy way of describing statistics that represent the \"middle\" of the data. The goal of this is to try to find a \"typical\" value. Common ways to define the middle of the data include:\n",
        "\n",
        "-   The *mean*: A simple average based on adding together all of the values in the sample set, and then dividing the total by the number of samples.\n",
        "\n",
        "-   The *median*: The value in the middle of the range of all of the sample values.\n",
        "\n",
        "-   The *mode*: The most commonly occuring value in the sample set.\n",
        "\n",
        "Let's calculate these values, along with the minimum and maximum values for comparison, and show them on the histogram.\n",
        "\n",
        "> Of course, in some sample sets , there may be a tie for the most common value - in which case the dataset is described as *bimodal* or even *multimodal*.\n",
        "\n",
        "Base *R does not* provide a *function* for finding the *mode*. But worry not, `statip::mfv` returns the most frequent value(s) (or mode(s)) found in a vector. Other pretty awesome workarounds can be found can be found on this [stackoverflow thread](https://stackoverflow.com/questions/2547402/how-to-find-the-statistical-mode)."
      ],
      "metadata": {
        "id": "sIiCmY1rny42"
      }
    },
    {
      "cell_type": "code",
      "execution_count": null,
      "source": [
        "library(statip)\r\n",
        "# Get the variable to examine\r\n",
        "var <- df_students %>% select(Grade)\r\n",
        "\r\n",
        "# Get statistics\r\n",
        "min_val <- min(var$Grade)\r\n",
        "max_val <- max(var$Grade)\r\n",
        "mean_val <- mean(var$Grade)\r\n",
        "med_val <- median(var$Grade)\r\n",
        "mod_val <- mfv(var$Grade)\r\n",
        "\r\n",
        "# Print the stats\r\n",
        "glue::glue(\r\n",
        "  'Minimum: {format(round(min_val, 2), nsmall = 2)}\r\n",
        "   Mean: {format(round(mean_val, 2), nsmall = 2)}\r\n",
        "   Median: {format(round(med_val, 2), nsmall = 2)}\r\n",
        "   Mode: {format(round(mod_val, 2), nsmall = 2)}\r\n",
        "   Maximum: {format(round(max_val, 2), nsmall = 2)}'\r\n",
        ")\r\n",
        "\r\n",
        "\r\n",
        "# Plot a histogram\r\n",
        "var %>% \r\n",
        "  ggplot(aes(x = Grade))+\r\n",
        "  geom_histogram(binwidth = 20, fill = \"midnightblue\", alpha = 0.7, boundary = 0.5)+\r\n",
        "  \r\n",
        "# Add lines for the statistics\r\n",
        "  geom_vline(xintercept = min_val, color = 'gray33', linetype = \"dashed\", size = 1.3)+\r\n",
        "  geom_vline(xintercept = mean_val, color = 'cyan', linetype = \"dashed\", size = 1.3)+\r\n",
        "  geom_vline(xintercept = med_val, color = 'red', linetype = \"dashed\", size = 1.3 )+\r\n",
        "  geom_vline(xintercept = mod_val, color = 'yellow', linetype = \"dashed\", size = 1.3 )+\r\n",
        "  geom_vline(xintercept = max_val, color = 'gray33', linetype = \"dashed\", size = 1.3 )+\r\n",
        "  \r\n",
        "# Add titles and labels\r\n",
        "  ggtitle('Data Distribution')+\r\n",
        "  xlab('Value')+\r\n",
        "  ylab('Frequency')+\r\n",
        "  theme(plot.title = element_text(hjust = 0.5))"
      ],
      "outputs": [],
      "metadata": {
        "id": "rGj7kp1ToX4t"
      }
    },
    {
      "cell_type": "markdown",
      "source": [
        "For the grade data, the mean, median, and mode all seem to be more or less in the middle of the minimum and maximum, at around 50.\n",
        "\n",
        "Another way to visualize the distribution of a variable is to use a *box* plot (sometimes called a *box-and-whiskers* plot). Let's create one for the grade data."
      ],
      "metadata": {
        "id": "JfJen9hOoZVS"
      }
    },
    {
      "cell_type": "code",
      "execution_count": null,
      "source": [
        "# Get the variable to examine\r\n",
        "var <- df_students %>% select(Grade)\r\n",
        "\r\n",
        "# Plot a box plot\r\n",
        "var %>% \r\n",
        "  ggplot(aes(x = 1, y = Grade))+\r\n",
        "  geom_boxplot(fill = \"#E69F00\", color = \"gray23\", alpha = 0.7)+\r\n",
        "# Add titles and labels\r\n",
        "  ggtitle(\"Data Distribution\")+\r\n",
        "  xlab(\"\")+\r\n",
        "  ylab(\"Grade\")+\r\n",
        "  theme(plot.title = element_text(hjust = 0.5))"
      ],
      "outputs": [],
      "metadata": {
        "id": "y5p5eCqKogkE"
      }
    },
    {
      "cell_type": "markdown",
      "source": [
        "The box plot shows the distribution of the grade values in a different format to the histogram. The *box* part of the plot shows where the inner two *quartiles* of the data reside - so in this case, half of the grades are between approximately 36 and 63. The *whiskers* extending from the box show the outer two quartiles; so the other half of the grades in this case are between 0 and 36 or 63 and 100. The line in the box indicates the *median* value.\n",
        "\n",
        "It's often useful to combine histograms and box plots, with the *box plot's orientation changed* to align it with the histogram (in some ways, it can be helpful to think of the histogram as a \"front elevation\" view of the distribution, and the box plot as a \"plan\" view of the distribution from above). Since we may need to plot the histograms and box plots for different variables, it will be convenient to write a function. Functions allows you to automate common tasks in a more powerful and general way than copy-and-pasting.\n",
        "\n",
        "> This [`Introduction to R Functions`](writing%20functions%20in%20the%20R%20language) by Stephanie Kirmer will get you writing functions in the R language in no time.\n",
        "\n",
        "Let's get right to it! Functions in R are generally defined in this fashion:\n",
        "\n",
        "`name <- function(variables) {return(value)}`\n",
        "\n",
        "> Just for the sake of pretty and more elaborative plots, we'll include a parameter `binwidth` as one of the input variables to our function. Binwidth will specify the width of the bins used for our histogram and will help us explore multiple widths to find the best that will illustrate the stories in our data."
      ],
      "metadata": {
        "id": "Jlavg4D_olS8"
      }
    },
    {
      "cell_type": "code",
      "execution_count": null,
      "source": [
        "# Create a function that we can reuse\r\n",
        "show_distribution <- function(var_data, binwidth) {\r\n",
        "  library(ggplot2)\r\n",
        "  library(dplyr)\r\n",
        "  library(glue)\r\n",
        "  library(patchwork)\r\n",
        "  \r\n",
        "  # Get statistics\r\n",
        "  min_val <- min(pull(var_data))\r\n",
        "  max_val <- max(pull(var_data))\r\n",
        "  mean_val <- mean(pull(var_data))\r\n",
        "  med_val <- median(pull(var_data))\r\n",
        "  mod_val <- statip::mfv(pull(var_data))\r\n",
        "\r\n",
        "  # Print the stats\r\n",
        "  stats <- glue::glue(\r\n",
        "  'Minimum: {format(round(min_val, 2), nsmall = 2)}\r\n",
        "   Mean: {format(round(mean_val, 2), nsmall = 2)}\r\n",
        "   Median: {format(round(med_val, 2), nsmall = 2)}\r\n",
        "   Mode: {format(round(mod_val, 2), nsmall = 2)}\r\n",
        "   Maximum: {format(round(max_val, 2), nsmall = 2)}'\r\n",
        "  )\r\n",
        "  \r\n",
        "  # Plot the histogram\r\n",
        "  hist_gram <- var_data %>% \r\n",
        "  ggplot(aes(x = pull(var_data)))+\r\n",
        "  geom_histogram(binwidth = binwidth, fill = \"midnightblue\", alpha = 0.7, boundary = 0.4)+\r\n",
        "  # Add lines for the statistics\r\n",
        "  geom_vline(xintercept = min_val, color = 'gray33', linetype = \"dashed\", size = 1.3)+\r\n",
        "  geom_vline(xintercept = mean_val, color = 'cyan', linetype = \"dashed\", size = 1.3)+\r\n",
        "  geom_vline(xintercept = med_val, color = 'red', linetype = \"dashed\", size = 1.3 )+\r\n",
        "  geom_vline(xintercept = mod_val, color = 'yellow', linetype = \"dashed\", size = 1.3 )+\r\n",
        "  geom_vline(xintercept = max_val, color = 'gray33', linetype = \"dashed\", size = 1.3 )+\r\n",
        "  # Add titles and labels\r\n",
        "  ggtitle('Data Distribution')+\r\n",
        "  xlab('')+\r\n",
        "  ylab('Frequency')+\r\n",
        "  theme(plot.title = element_text(hjust = 0.5))\r\n",
        "  \r\n",
        "  # Plot the box plot\r\n",
        "  bx_plt <- var_data %>% \r\n",
        "  ggplot(aes(x = pull(var_data), y = 1))+\r\n",
        "  geom_boxplot(fill = \"#E69F00\", color = \"gray23\", alpha = 0.7\r\n",
        "               )+\r\n",
        "    # Add titles and labels\r\n",
        "  xlab(\"Value\")+\r\n",
        "  ylab(\"\")+\r\n",
        "  theme(plot.title = element_text(hjust = 0.5))\r\n",
        "  \r\n",
        "  \r\n",
        "  # To return multiple outputs, use a `list`\r\n",
        "  return(list(stats,\r\n",
        "              hist_gram / bx_plt)) # End of returned outputs\r\n",
        "  \r\n",
        "} # End of function"
      ],
      "outputs": [],
      "metadata": {
        "id": "4cLWFgnIo5WQ"
      }
    },
    {
      "cell_type": "markdown",
      "source": [
        "Now that the `show_distribution()` function is done for, let's get a variable/column to examine and then call the function."
      ],
      "metadata": {
        "id": "Rs7VkBgYo8tb"
      }
    },
    {
      "cell_type": "code",
      "execution_count": null,
      "source": [
        "# Get the variable to examine\r\n",
        "col <- df_students %>% select(Grade)\r\n",
        "\r\n",
        "# Call the function\r\n",
        "show_distribution(var_data = col, binwidth = 20)"
      ],
      "outputs": [],
      "metadata": {
        "id": "J3wpSRKwpBJW"
      }
    },
    {
      "cell_type": "markdown",
      "source": [
        "All of the measurements of central tendency are right in the middle of the data distribution, which is symmetric with values becoming progressively lower in both directions from the middle.\n",
        "\n",
        "To explore this distribution in more detail, you need to understand that statistics is fundamentally about taking *samples* of data and using probability functions to *extrapolate information* about the full *population* of data. For example, the student data consists of 22 samples, and for each sample there is a grade value. You can think of each sample grade as a variable that's been randomly selected from the set of all grades awarded for this course. With enough of these random variables, you can calculate something called a *probability density function*, which estimates the distribution of grades for the full population.\n",
        "\n",
        "A [density plot](https://www.data-to-viz.com/graph/density.html) is a representation of the distribution of a numeric variable. It is a smoothed version of the histogram and is used in the same kind of situation.\n",
        "\n",
        "`ggplot2()` has got you covered with `geom_density`!"
      ],
      "metadata": {
        "id": "em6QlaB2pGlr"
      }
    },
    {
      "cell_type": "code",
      "execution_count": null,
      "source": [
        "# Create a function that returns a density plot\r\n",
        "show_density <- function(var_data) {\r\n",
        "  library(ggplot2)\r\n",
        "  library(dplyr)\r\n",
        "  library(patchwork)\r\n",
        "  \r\n",
        "  # Get statistics\r\n",
        "  mean_val <- mean(pull(var_data))\r\n",
        "  med_val <- median(pull(var_data))\r\n",
        "  mod_val <- statip::mfv(pull(var_data))\r\n",
        "  \r\n",
        "  \r\n",
        "  # Plot the density plot\r\n",
        "  density_plot <- var_data %>% \r\n",
        "  ggplot(aes(x = pull(var_data)))+\r\n",
        "  geom_density(fill=\"orangered\", color=\"white\", alpha=0.4)+\r\n",
        "  # Add lines for the statistics\r\n",
        "  geom_vline(xintercept = mean_val, color = 'cyan', linetype = \"dashed\", size = 1.3)+\r\n",
        "  geom_vline(xintercept = med_val, color = 'red', linetype = \"dashed\", size = 1.3 )+\r\n",
        "  geom_vline(xintercept = mod_val, color = 'yellow', linetype = \"dashed\", size = 1.3 )+\r\n",
        "  # Add titles and labels\r\n",
        "  ggtitle('Data Density')+\r\n",
        "  xlab('')+\r\n",
        "  ylab('Density')+\r\n",
        "  theme(plot.title = element_text(hjust = 0.5))\r\n",
        "  \r\n",
        "  \r\n",
        "  \r\n",
        "  return(density_plot) # End of returned outputs\r\n",
        "  \r\n",
        "} # End of function\r\n",
        "\r\n",
        "\r\n",
        "\r\n",
        "# Get the density of Grade\r\n",
        "col <- df_students %>% select(Grade)\r\n",
        "show_density(var_data = col)"
      ],
      "outputs": [],
      "metadata": {
        "id": "aXfwn8g5pR12"
      }
    },
    {
      "cell_type": "markdown",
      "source": [
        "As expected from the histogram of the sample, the density of the `Grade` column shows the characteristic 'bell curve\" of what statisticians call a *normal* distribution with the mean and mode at the center and symmetric tails.\n",
        "\n",
        "Now let's take a look at the distribution of the study hours data. Woo-hoo, this should a breeze since we'll just be calling the respective functions 🥳!"
      ],
      "metadata": {
        "id": "2hcsKaLNpa4V"
      }
    },
    {
      "cell_type": "code",
      "execution_count": null,
      "source": [
        "# Get the variable to examine\r\n",
        "col <- df_students %>% select(StudyHours)\r\n",
        "\r\n",
        "# Call the function\r\n",
        "show_distribution(var_data = col, binwidth = 2)"
      ],
      "outputs": [],
      "metadata": {
        "id": "TVi7EBBapeci"
      }
    },
    {
      "cell_type": "markdown",
      "source": [
        "The distribution of the study time data is significantly different from that of the grades. Note that the whiskers of the box plot only extend to around 6.0, indicating that the vast majority of the first quarter of the data is above this value. The minimum (`1`) is marked with an **o**, indicating that it is statistically an *outlier* - a value that lies significantly outside the range of the rest of the distribution.\n",
        "\n",
        "Outliers can occur for many reasons. Maybe a student meant to record \"10\" hours of study time, but entered \"1\" and missed the \"0\". Or maybe the student was abnormally lazy when it comes to studying! Either way, it's a statistical anomaly that doesn't represent a typical student. Let's see what the distribution looks like without it."
      ],
      "metadata": {
        "id": "y3vCZ6QWpizT"
      }
    },
    {
      "cell_type": "code",
      "execution_count": null,
      "source": [
        "# Get the variable to examine without outliers\r\n",
        "col <- df_students %>% \r\n",
        "  select(StudyHours) %>% \r\n",
        "  filter(StudyHours > 1)\r\n",
        "\r\n",
        "# This could have done the trick too!\r\n",
        "#col <- df_students %>% select(StudyHours) %>% filter(.>1)\r\n",
        "\r\n",
        "# Call the function\r\n",
        "show_distribution(var_data = col, binwidth = 2.4)"
      ],
      "outputs": [],
      "metadata": {
        "id": "1Zl2JOwNpuSi"
      }
    },
    {
      "cell_type": "markdown",
      "source": [
        "In this example, the dataset is small enough to clearly see that the value **1** is an outlier for the **StudyHours** column, so you can exclude it explicitly.\n",
        "\n",
        "In most real-world cases, it's easier to consider outliers as being *values that fall below or above percentiles within which most of the data lie*. For example, the following code uses the `stats::quantile()` function to exclude observations below the 0.01th percentile (the value above which 99% of the data reside)."
      ],
      "metadata": {
        "id": "8VkkqsRBpvCp"
      }
    },
    {
      "cell_type": "code",
      "execution_count": null,
      "source": [
        "# Produce a quantile corresponding to 1%\r\n",
        "q01 <- df_students$StudyHours %>% \r\n",
        "  quantile(probs = 1/100, names = FALSE)\r\n",
        "\r\n",
        "# Get the variable to examine\r\n",
        "col <- df_students %>% \r\n",
        "  select(StudyHours) %>% \r\n",
        "  filter(. > q01)\r\n",
        "  \r\n",
        "# Call the function\r\n",
        "show_distribution(var_data = col, binwidth = 2.4)"
      ],
      "outputs": [],
      "metadata": {
        "id": "efAvTTFjpy3d"
      }
    },
    {
      "cell_type": "markdown",
      "source": [
        "\n",
        "> **Tip**: *You can also eliminate outliers at the upper end of the distribution by defining a threshold at a high percentile value - for example, you could use the `stats::quantile()` function to find the 0.99 percentile below which 99% of the data reside.*\n",
        "\n",
        "With the outliers removed, the box plot shows all data within the four quartiles. Note that the distribution is not symmetric like it is for the grade data though - there are some students with very high study times of around 16 hours, but the bulk of the data is between 7 and 13 hours; The few extremely high values pull the mean towards the higher end of the scale.\n",
        "\n",
        "Let's look at the density for this distribution."
      ],
      "metadata": {
        "id": "rSLRQw0Yp2oI"
      }
    },
    {
      "cell_type": "code",
      "execution_count": null,
      "source": [
        "# Get the density of StudyHours\r\n",
        "show_density(col)"
      ],
      "outputs": [],
      "metadata": {
        "id": "ws0GDhtwqBh0"
      }
    },
    {
      "cell_type": "markdown",
      "source": [
        "This kind of distribution is called *right skewed*. The mass of the data is on the left side of the distribution, creating a long tail to the right because of the values at the extreme high end; which pull the mean to the right.\n",
        "\n",
        "### Measures of variance\n",
        "\n",
        "So now we have a good idea where the middle of the grade and study hours data distributions are. However, there's another aspect of the distributions we should examine: how much variability is there in the data?\n",
        "\n",
        "Typical statistics that measure variability in the data include:\n",
        "\n",
        "-   **Range**: The difference between the maximum and minimum. There's no built-in function for this, but it's easy to calculate using the **min** and **max** functions. Another approach would be to use Base R's `base::range()` which returns a vector containing the *minimum* and *maximum* of all the given arguments. Wrapping this in `base::diff()` will get you well on your way to finding the range.\n",
        "\n",
        "-   **Variance**: The average of the squared difference from the mean. You can use the built-in **var** function to find this.\n",
        "\n",
        "-   **Standard Deviation**: The square root of the variance. You can use the built-in **sd** function to find this."
      ],
      "metadata": {
        "id": "wW32qThzqFNv"
      }
    },
    {
      "cell_type": "code",
      "execution_count": null,
      "source": [
        "# Select columns to analyze the measure of variance\r\n",
        "cols <- df_students %>%\r\n",
        "  select(c(Grade, StudyHours))\r\n",
        "\r\n",
        "# Apply a function to each column in cols\r\n",
        "lapply(cols, function(column){\r\n",
        "  rng <- diff(range(column)) # --> same as: max(column) - min(column)\r\n",
        "  var <- var(column)\r\n",
        "  std <- sd(column)\r\n",
        "  glue::glue(\r\n",
        "  '\r\n",
        "  - Range: {format(round(rng, 2), nsmall = 2)}\r\n",
        "  - Variance : {format(round(var, 2), nsmall = 2)}\r\n",
        "  - Std.Dev : {format(round(std, 2), nsmall = 2)}',\r\n",
        "  .sep = '\\n')\r\n",
        "})"
      ],
      "outputs": [],
      "metadata": {
        "id": "TG9xhRLIqNFp"
      }
    },
    {
      "cell_type": "markdown",
      "source": [
        "Of these statistics, the standard deviation is generally the most useful. It provides a measure of variance in the data on the same scale as the data itself (so grade points for the Grade distribution and hours for the StudyHours distribution). The higher the standard deviation, the more variance there is when comparing values in the distribution to the distribution mean - in other words, the data is more spread out.\n",
        "\n",
        "When working with a *normal* distribution, the standard deviation works with the particular characteristics of a normal distribution to provide even greater insight. This can be summarized using the `68–95–99.7 rule`, also known as the `empirical rule`which is described as follows:\n",
        "\n",
        "In any normal distribution:\n",
        "\n",
        "-   Approximately 68.26% of values fall within one standard deviation from the mean.\n",
        "\n",
        "-   Approximately 95.45% of values fall within two standard deviations from the mean.\n",
        "\n",
        "-   Approximately 99.73% of values fall within three standard deviations from the mean.\n",
        "\n",
        "As a quick detour, let's see verify that the distribution of grades follows a normal distribution."
      ],
      "metadata": {
        "id": "UJ-8eLwEqVMz"
      }
    },
    {
      "cell_type": "code",
      "execution_count": null,
      "source": [
        "# Get the variable to examine\r\n",
        "col <- df_students['Grade']\r\n",
        "\r\n",
        "# Get the mean\r\n",
        "me_an <- mean(pull(col))\r\n",
        "\r\n",
        "# Get the standard deviation\r\n",
        "st_dev <- sd(pull(col))\r\n",
        "\r\n",
        "# Find proportion that will fall within 1 standard deviation\r\n",
        "one_st_dev <- pnorm((me_an + st_dev), mean = me_an, sd = st_dev) -\r\n",
        "  pnorm((me_an - st_dev), mean = me_an, sd = st_dev)\r\n",
        "\r\n",
        "# Find proportion that will fall within 2 standard deviation\r\n",
        "two_st_dev <- pnorm((me_an + (2*st_dev)), mean = me_an, sd = st_dev) - \r\n",
        "  pnorm((me_an - (2*st_dev)), mean = me_an, sd = st_dev)\r\n",
        "\r\n",
        "# Find proportion that will fall within 3 standard deviation\r\n",
        "three_st_dev <- pnorm((me_an + (3*st_dev)), mean = me_an, sd = st_dev) - \r\n",
        "  pnorm((me_an - (3*st_dev)), mean = me_an, sd = st_dev)\r\n",
        "\r\n",
        "glue::glue(\r\n",
        "  '\r\n",
        "  {format(round(one_st_dev*100, 2), nsmall = 2)}% of grades fall within one standard deviation from the mean.\r\n",
        "  {format(round(two_st_dev*100, 2), nsmall = 2)}% of grades fall within one standard deviation from the mean.\r\n",
        "  {format(round(three_st_dev*100, 2), nsmall = 2)}% of grades fall within one standard deviation from the mean.\r\n",
        "  \r\n",
        "  '\r\n",
        ")"
      ],
      "outputs": [],
      "metadata": {
        "id": "JHipnuxbqqVZ"
      }
    },
    {
      "cell_type": "markdown",
      "source": [
        "There is no doubt that the distribution of grades indeed follows a normal distribution!\n",
        "\n",
        "Wouldn't hurt if we showed this graphically right? As it were 💁, \"The simple graph has ...\"\n",
        "\n",
        "Instead of using `geom_density`, we'll calculate the density of the `Grade` column and then use the results to whip up a density plot. We'll then shade/fill the density plot depending on the number of standard deviations from the mean."
      ],
      "metadata": {
        "id": "loo5RTiKqs6K"
      }
    },
    {
      "cell_type": "code",
      "execution_count": null,
      "source": [
        "# Get the Grade column\r\n",
        "col <- df_students['Grade']\r\n",
        "\r\n",
        "# Compute kernel density estimates\r\n",
        "density <- density(pull(col), kernel = \"gaussian\")\r\n",
        "\r\n",
        "# Create a dataframe containing coordinates where density is estimated \r\n",
        "#and the corresponding estimated value\r\n",
        "density_xy <- tibble(\r\n",
        "  x = density$x,\r\n",
        "  y = density$y\r\n",
        ")\r\n",
        "\r\n",
        "# Make density plots for various deviations of the mean\r\n",
        "\r\n",
        "plt_sd_1 <- density_xy %>%\r\n",
        "  ggplot(aes(x = x, y = y))+\r\n",
        "  geom_line()+\r\n",
        "  geom_area(aes(x = ifelse(x>(me_an-st_dev) & x<(me_an+st_dev), x, 0)), fill = \"plum1\", alpha = 0.8)+\r\n",
        "  annotate(\"text\", x = 50, y = 0.01, label = \"1 std (68.26%)\")+\r\n",
        "  xlim(1, max(col))+\r\n",
        "  geom_vline(xintercept = me_an, linetype = \"dashed\")+\r\n",
        "  labs(x = \"\", y = \"Density\")\r\n",
        "\r\n",
        "\r\n",
        "# 2 std deviations from the mean\r\n",
        "plt_sd_2 <- density_xy %>%\r\n",
        "  ggplot(aes(x = x, y = y))+\r\n",
        "  geom_line()+\r\n",
        "  geom_area(aes(x = ifelse(x>(me_an-(2*st_dev)) & x<(me_an+(2*st_dev)), x, 0)), fill = \"plum3\", alpha = 0.7)+\r\n",
        "  annotate(\"text\", x = 50, y = 0.01, label = \"2 std (95.45%)\")+\r\n",
        "  xlim(1, max(col))+\r\n",
        "  geom_vline(xintercept = me_an, linetype = \"dashed\")+\r\n",
        "  labs(x = \"\", y = \"\")\r\n",
        "\r\n",
        "\r\n",
        "# 3 std deviations from the mean\r\n",
        "plt_sd_3 <- density_xy %>%\r\n",
        "  ggplot(aes(x = x, y = y))+\r\n",
        "  geom_line()+\r\n",
        "  geom_area(aes(x = ifelse(x>(me_an-(3*st_dev)) & x<(me_an+(3*st_dev)), x, 0)), fill = \"plum4\", alpha = 0.5)+\r\n",
        "  annotate(\"text\", x = 50, y = 0.01, label = \"3 std (99.73%)\")+\r\n",
        "  xlim(1, max(col))+\r\n",
        "  geom_vline(xintercept = me_an, linetype = \"dashed\")+\r\n",
        "  labs(x = \"Grade\", y = \"\")\r\n",
        "\r\n",
        "\r\n",
        "\r\n",
        "# Patching things up\r\n",
        "plt_sd_1| (plt_sd_2/plt_sd_3)+\r\n",
        "  plot_annotation(tag_levels = 'a')"
      ],
      "outputs": [],
      "metadata": {
        "id": "iQCLVYijqwtP"
      }
    },
    {
      "cell_type": "markdown",
      "source": [
        "Since we know that the mean grade is `49.18`, the standard deviation is `21.74`, and distribution of grades is `normal`; we can calculate that `68.26%` of students should achieve a grade between `27.44` and `70.92` as shown in the first plot above.\n",
        "\n",
        "The descriptive statistics we've used to understand the distribution of the student data variables are the basis of statistical analysis; and because they're such an important part of exploring your data, there's a built-in Base R function, `base::summary()`, that returns the result summaries of the results of various objects passed to it."
      ],
      "metadata": {
        "id": "syaModwCq8ar"
      }
    },
    {
      "cell_type": "code",
      "execution_count": null,
      "source": [
        "summary(df_students)"
      ],
      "outputs": [],
      "metadata": {
        "id": "pFJ67LParBrk"
      }
    },
    {
      "cell_type": "markdown",
      "source": [
        "Of course, with the need for much more robust data exploration and reporting, many packages have been developed for summarizing data.\n",
        "\n",
        "A good example would be the [`summarytools`](https://github.com/dcomtois/summarytools) package. `summarytools::descr()` does a remarkable job at finding statistics for numerical data.\n",
        "\n",
        "Let's first install a specific version of package `summarytools` that works on most of the coding platforms.\n"
      ],
      "metadata": {
        "id": "joXDq43SrEtJ"
      }
    },
    {
      "cell_type": "code",
      "execution_count": null,
      "source": [
        "devtools::install_github(\"dcomtois/summarytools\", ref=\"0-8-9\")"
      ],
      "outputs": [],
      "metadata": {
        "id": "mLUzvMOw6Cxv"
      }
    },
    {
      "cell_type": "markdown",
      "source": [
        "Perfect! Moving on.."
      ],
      "metadata": {
        "id": "MnsLa2ZaECNo"
      }
    },
    {
      "cell_type": "code",
      "execution_count": null,
      "source": [
        "library(summarytools)\r\n",
        "descr(\r\n",
        "  df_students,\r\n",
        "  stats = \"common\")"
      ],
      "outputs": [],
      "metadata": {
        "id": "82-H2Ib9rOeG"
      }
    },
    {
      "cell_type": "markdown",
      "source": [
        "## 7. Comparing data\n",
        "\n",
        "Now that you know something about the statistical distribution of the data in your dataset, you're ready to examine your data to identify any apparent relationships between variables.\n",
        "\n",
        "First of all, let's get rid of any rows that contain outliers so that we have a sample that is representative of a typical class of students. We identified that the StudyHours column contains some outliers with extremely low values, so we'll remove those rows."
      ],
      "metadata": {
        "id": "dy19ZRlTrQRu"
      }
    },
    {
      "cell_type": "code",
      "execution_count": null,
      "source": [
        "# Filter to remove outliers\r\n",
        "df_sample <- df_students %>% \r\n",
        "  filter(StudyHours > 1)"
      ],
      "outputs": [],
      "metadata": {
        "id": "ZZeitLcirXBI"
      }
    },
    {
      "cell_type": "markdown",
      "source": [
        "### Comparing numeric and categorical variables\n",
        "\n",
        "The data includes two *numeric* variables (`StudyHours` and `Grade`) and two *categorical* variables (`Name` and `Pass`). In R, categorical variables are usually saved as [factors](https://r4ds.had.co.nz/factors.html) or character vectors.\n",
        "\n",
        "Let's start by comparing the `numeric` *StudyHours* column to the `categorical` *Pass* column to see if there's an apparent relationship between the number of hours studied and a passing grade.\n",
        "\n",
        "To make this comparison, let's create box plots showing the distribution of StudyHours for each possible Pass value (TRUE and FALSE)."
      ],
      "metadata": {
        "id": "fkAX6WzTracW"
      }
    },
    {
      "cell_type": "code",
      "execution_count": null,
      "source": [
        "# Plot a box plot comparing StudyHours and Pass\r\n",
        "df_sample %>% \r\n",
        "  ggplot(aes(x = Pass, y = StudyHours))+\r\n",
        "  geom_boxplot(aes(fill = Pass), color = \"gray23\", alpha = 0.7)+\r\n",
        "  scale_fill_brewer(palette = \"Set1\")+\r\n",
        "  \r\n",
        "# Add titles and labels\r\n",
        "  ggtitle(\"Comparing Pass status and the Study hours\")+\r\n",
        "  xlab(\"Pass\")+\r\n",
        "  ylab(\"Study Hours\")+\r\n",
        "  theme(plot.title = element_text(hjust = 0.5))"
      ],
      "outputs": [],
      "metadata": {
        "id": "9a0sJPmlrhJ6"
      }
    },
    {
      "cell_type": "markdown",
      "source": [
        "Comparing the StudyHours distributions, it's immediately apparent (if not particularly surprising) that students who `passed` the course tended to `study for more` hours than students who didn't. So if you wanted to predict whether or not a student is likely to pass the course, the amount of time they spend studying may be a good predictive feature.\n",
        "\n",
        "### Comparing numeric variables\n",
        "\n",
        "Now let's compare two numeric variables. We'll start by creating a bar chart that shows both grade and study hours.\n",
        "\n",
        "To achieve this, we can first transform our data to a `long` format using `tidyr::pivot_longer()` then play around with the `fill` aesthetic and `position_dodge()` to place overlapping objects directly *beside* one another.\n",
        "\n",
        "Also, we'll try out [`paletter`](https://pmassicotte.github.io/paletteer_gallery/), a collection of most color palettes in a single R package."
      ],
      "metadata": {
        "id": "nE-vdjJ_rvTA"
      }
    },
    {
      "cell_type": "code",
      "execution_count": null,
      "source": [
        "# Pivot data from wide to long\r\n",
        "df_sample_long <- df_sample %>%\r\n",
        "  select(-Pass) %>%\r\n",
        "  pivot_longer(!Name, names_to = \"Metrics\", values_to = \"Values\")\r\n",
        "\r\n",
        "# Show first 10 rows\r\n",
        "df_sample_long %>% \r\n",
        "  slice_head(n = 10)\r\n",
        "\r\n",
        "# Plot\r\n",
        "ggplot(data = df_sample_long, aes(x = Name, y = Values))+\r\n",
        "  geom_bar(aes(fill = Metrics), alpha = 0.7, stat = \"identity\",position = position_dodge(width = 0.9))+\r\n",
        "  xlab('Student')+\r\n",
        "  ylab('')+\r\n",
        "  paletteer::scale_fill_paletteer_d(\"calecopal::kelp1\")+\r\n",
        "  theme(\r\n",
        "    panel.grid = element_blank(),\r\n",
        "    panel.grid.major.y = element_line(color = '#95a5a6',\r\n",
        "                                      linetype = 'dashed',\r\n",
        "                                      size = 0.5),\r\n",
        "    axis.text.x = element_text(angle = 90),\r\n",
        "    legend.title = element_blank())"
      ],
      "outputs": [],
      "metadata": {
        "id": "DRl0FfePrz-n"
      }
    },
    {
      "cell_type": "markdown",
      "source": [
        "The chart shows bars for both grade and study hours for each student; but it's not easy to compare because the values are on different scales. Grades are measured in grade points, and range from 3 to 97; while study time is measured in hours and ranges from 1 to 16.\n",
        "\n",
        "A common technique when dealing with numeric data in different scales is to *normalize* the data so that the values retain their proportional distribution, but are measured on the same scale. To accomplish this, we'll use a technique called *`MinMax`*`scaling` that distributes the values proportionally on a scale of 0 to 1. You could write the code to apply this transformation as shown in this; but the [**`scales`**](https://scales.r-lib.org/) library provides a scaler (`scales::rescale()`) to do it for you.\n",
        "\n",
        "Good news is that Scales is installed when you install ggplot2 or the tidyverse!"
      ],
      "metadata": {
        "id": "XE52PLLAr_4I"
      }
    },
    {
      "cell_type": "code",
      "execution_count": null,
      "source": [
        "library(scales)\r\n",
        "\r\n",
        "# Normalize the numeric columns\r\n",
        "# group_by ensures StudyHours and Grade are normalised independently\r\n",
        "df_normalized <- df_sample_long %>% \r\n",
        "  group_by(Metrics) %>% \r\n",
        "  mutate(Values = rescale(Values, to = c(0, 1)))\r\n",
        "\r\n",
        "# Show some of the normalized data\r\n",
        "df_normalized %>% \r\n",
        "  slice_head(n = 5)\r\n",
        "\r\n",
        "# Plot\r\n",
        "ggplot(data = df_normalized, aes(x = Name, y = Values))+\r\n",
        "  geom_bar(aes(fill = Metrics), alpha = 0.7, stat = \"identity\",position = position_dodge(width = 0.9))+\r\n",
        "  xlab('Student')+\r\n",
        "  ylab('')+\r\n",
        "  paletteer::scale_fill_paletteer_d(\"calecopal::kelp1\")+\r\n",
        "  theme(\r\n",
        "    panel.grid = element_blank(),\r\n",
        "    panel.grid.major.y = element_line(color = '#95a5a6',\r\n",
        "                                      linetype = 'dashed',\r\n",
        "                                      size = 0.5),\r\n",
        "    axis.text.x = element_text(angle = 90),\r\n",
        "    legend.title = element_blank(),\r\n",
        "    legend.position = c(0.9, 0.9),\r\n",
        "    legend.background = element_blank())"
      ],
      "outputs": [],
      "metadata": {
        "id": "ADrnvt-3sGkX"
      }
    },
    {
      "cell_type": "markdown",
      "source": [
        "With the data normalized, it's easier to see an apparent relationship between grade and study time. It's not an exact match, but it definitely seems like students with higher grades tend to have studied more.\n",
        "\n",
        "## 8. Fitting a simple linear regression model\n",
        "\n",
        "From the previous comparisons, there seems to be a correlation between study time and grade; and in fact, there's a statistical *correlation* measurement we can use to quantify the relationship between these columns.\n"
      ],
      "metadata": {
        "id": "ekQ8BgQDsSw1"
      }
    },
    {
      "cell_type": "code",
      "execution_count": null,
      "source": [
        "# Compute Pearson Product Moment correlation coefficient\r\n",
        "cor(df_sample$StudyHours, df_sample$Grade)"
      ],
      "outputs": [],
      "metadata": {
        "id": "PlEQ_fRqsXcZ"
      }
    },
    {
      "cell_type": "markdown",
      "source": [
        "\n",
        "The correlation statistic is a value between -1 and 1 that indicates the strength of a relationship. Values above 0 indicate a *positive* correlation (high values of one variable tend to coincide with high values of the other), while values below 0 indicate a *negative* correlation (high values of one variable tend to coincide with low values of the other). In this case, the correlation value is close to 1; showing a strongly positive correlation between study time and grade.\n",
        "\n",
        "> **Note**: Data scientists often quote the maxim \"*correlation is not causation*\". In other words, as tempting as it might be, you shouldn't interpret the statistical correlation as explaining *why one of the values is high*. In the case of the student data, the statistics demonstrates that students with high grades tend to also have high amounts of study time; but this is not the same as proving that they achieved high grades *because* they studied a lot. The statistic could equally be used as evidence to support the nonsensical conclusion that the students studied a lot *because* their grades were going to be high.\n",
        "\n",
        "Another way to visualize the apparent correlation between two numeric columns is to use a *scatter* plot. With `geom_point`, you'll be well on your way to whipping up a neat scatterplot."
      ],
      "metadata": {
        "id": "zd1BlI6GsbD6"
      }
    },
    {
      "cell_type": "code",
      "execution_count": null,
      "source": [
        "df_sample %>% \r\n",
        "  ggplot(aes(x = StudyHours, y = Grade))+\r\n",
        "  geom_point()+\r\n",
        "  ggtitle('Study Time vs Grade')+\r\n",
        "  theme(plot.title = element_text(hjust = 0.5))"
      ],
      "outputs": [],
      "metadata": {
        "id": "Mt2QMNqusf_Z"
      }
    },
    {
      "cell_type": "markdown",
      "source": [
        "Again, it looks like there's a discernible pattern in which the students who studied the most hours are also the students who got the highest grades.\n",
        "\n",
        "We can see this more clearly by adding a *regression* line (or a *line of best fit*) to the plot that shows the general trend in the data. To do this, we'll use a statistical technique called *least squares regression*.\n",
        "\n",
        "> **Warning - Math Ahead!**\n",
        ">\n",
        "> Cast your mind back to when you were learning how to solve linear equations in school, and recall that the *slope-intercept* form of a linear equation looks like this:\n",
        ">\n",
        "> `y = mx + b`\n",
        ">\n",
        "> In this equation, *y* and *x* are the coordinate variables, *m* is the slope of the line, and *b* is the y-intercept (where the line goes through the Y-axis).\n",
        ">\n",
        "> In the case of our scatter plot for our student data, we already have our values for *x* (*StudyHours*) and *y* (*Grade*), so we just need to calculate the intercept and slope of the straight line that lies closest to those points. Then we can form a linear equation that calculates a new *y* value on that line for each of our *x* (*StudyHours*) values - to avoid confusion, we'll call this new *y* value *f(x)* (because it's the output from a linear equation ***f***unction based on *x*). The difference between the original *y* (*Grade*) value and the *f(x)* value is the *error* between our regression line and the actual *Grade* achieved by the student. Our goal is to calculate the slope and intercept for a line with the lowest overall error.\n",
        ">\n",
        "> Specifically, we define the overall error by taking the error for each point, squaring it, and adding all the squared errors together. The line of best fit is the line that gives us the lowest value for the sum of the squared errors - hence the name *least squares regression*.\n"
      ],
      "metadata": {
        "id": "R4ipnJL-siqF"
      }
    },
    {
      "cell_type": "markdown",
      "source": [
        "Fortunately, you don't need to code the regression calculation yourself - the The R Stats Package **`stats`** provides the **`lm()`** function to do the hard work for you. lm() takes a formula of the form:\n",
        "\n",
        "`outcome ~ predictor`\n",
        "\n",
        "This returns (among other things) the coefficients you need for the slope equation - slope (*m*) and intercept (*b*) based on a given pair of variable samples you want to compare.\n"
      ],
      "metadata": {
        "id": "3QsnlIjAszNl"
      }
    },
    {
      "cell_type": "code",
      "execution_count": null,
      "source": [
        "# Drop all columns except Grade and StudyHours\r\n",
        "df_regression <- df_sample %>% \r\n",
        "  select(c(Grade, StudyHours))\r\n",
        "\r\n",
        "# Fit a linear model\r\n",
        "lm_df_regression <- lm(Grade ~ StudyHours, data = df_regression)\r\n",
        "\r\n",
        "# Get the regression slope and intercept\r\n",
        "intercept_b <- lm_df_regression$coefficients[1]\r\n",
        "slope_m <- lm_df_regression$coefficients[2]\r\n",
        "glue(\r\n",
        "  'slope: {format(round(slope_m, 4), nsmall = 4)}\r\n",
        "  y-intercept: {format(round(intercept_b, 4), nsmall = 4)}\r\n",
        "  so…\r\n",
        "   f(x) = {format(round(slope_m, 4), nsmall = 4)}x + {format(round(intercept_b, 4), nsmall = 4)}'\r\n",
        ")"
      ],
      "outputs": [],
      "metadata": {
        "id": "5YkARhFGs009"
      }
    },
    {
      "cell_type": "markdown",
      "source": [
        "Now that we have the equation `f(x) = 6.3134x + -17.9164` of the least squares regression line, we can use that to estimate the grade given the amount of hours spent studying."
      ],
      "metadata": {
        "id": "ksz-Ax2is6Mr"
      }
    },
    {
      "cell_type": "code",
      "execution_count": null,
      "source": [
        "# Use the function (mx + b) to calculate f(x) for each x (StudyHours) value\r\n",
        "df_regression <- df_regression %>% \r\n",
        "  mutate('fx' = (slope_m * StudyHours + intercept_b),\r\n",
        "         'error' = fx - Grade)\r\n",
        "\r\n",
        "\r\n",
        "# Show data frame\r\n",
        "df_regression"
      ],
      "outputs": [],
      "metadata": {
        "id": "QmxF1tt3s_hU"
      }
    },
    {
      "cell_type": "markdown",
      "source": [
        "We now have a data frame that contains the following values:\n",
        "\n",
        "-   The **StudyHours** for each student.\n",
        "\n",
        "-   The **Grade** achieved by each student.\n",
        "\n",
        "-   The ***f(x)*** value calculated using the regression line coefficients.\n",
        "\n",
        "-   The *error* between the calculated ***f(x)*** value and the actual **Grade** value.\n",
        "\n",
        "Some of the errors, particularly at the extreme ends, are quite large (up to over 17.5 grade points); but in general, the line is pretty close to the actual grades.\n",
        "\n",
        "Now, time to see this visually 📈. We'll create the scatter plot of the sample study hours and grades as before, and then add a line of best fit based on the least squares regression coefficients."
      ],
      "metadata": {
        "id": "7UpZegX3tCzC"
      }
    },
    {
      "cell_type": "code",
      "execution_count": null,
      "source": [
        "df_sample %>% \r\n",
        "  ggplot(aes(x = StudyHours, y = Grade))+\r\n",
        "  geom_point()+\r\n",
        "  # Add a line based on the linear model\r\n",
        "  geom_abline(intercept = intercept_b, slope = slope_m, color = \"springgreen3\", size = 1)+\r\n",
        "  ggtitle('Study Time vs Grade')+\r\n",
        "  theme(plot.title = element_text(hjust = 0.5))"
      ],
      "outputs": [],
      "metadata": {
        "id": "oPEnQWlstPeB"
      }
    },
    {
      "cell_type": "markdown",
      "source": [
        "\n",
        "> Adding a line based on the linear model can be done much easily by replacing\n",
        ">\n",
        "> `geom_abline(intercept = intercept_b, slope = slope_m, ...)`\n",
        ">\n",
        "> with\n",
        ">\n",
        "> `geom_smooth(method = \"lm\", se = F)`\n",
        "\n",
        "### Using the regression coefficients for prediction\n",
        "\n",
        "Now that we have the regression coefficients for the study time and grade relationship, you can use them in a function to estimate the expected grade for a given amount of study."
      ],
      "metadata": {
        "id": "T4V9NbIrtTDx"
      }
    },
    {
      "cell_type": "code",
      "execution_count": null,
      "source": [
        "# Define a function based on our regression coefficients\r\n",
        "f <- function(x) {\r\n",
        "  slope_m <-  6.3134\r\n",
        "  y_intercept_b <-  -17.9164\r\n",
        "  # y = mx + b\r\n",
        "  fx <-  slope_m * x + y_intercept_b\r\n",
        "  return(fx)\r\n",
        "}\r\n",
        "\r\n",
        "# Assume the student studied for 14 hours per week\r\n",
        "study_time <-  14\r\n",
        "\r\n",
        "# Get f(x) for study time\r\n",
        "prediction <- f(x = study_time)\r\n",
        "\r\n",
        "# Grade can't be less than 0 or more than 100\r\n",
        "expected_grade <- max(0, min(100, prediction))\r\n",
        "\r\n",
        "# Print the estimated grade\r\n",
        "glue(\r\n",
        "  'Studying for {study_time} hours per week may result in a grade of {format(round(expected_grade))}\r\n",
        "  ')"
      ],
      "outputs": [],
      "metadata": {
        "id": "B-7PP7OJtj1b"
      }
    },
    {
      "cell_type": "markdown",
      "source": [
        "So by applying statistics to sample data, you've determined a `relationship` between study time and grade; and encapsulated that relationship in a `general function` that can be used to `predict` a grade for a given amount of study time.\n",
        "\n",
        "This technique is in fact the basic premise of machine learning. You can take a set of sample data that includes one or more *`features`* (in this case, the number of hours studied) and a known *`label`* value (in this case, the grade achieved) and use the `sample data` to `derive a function` that calculates `predicted label values` for any given set of features.\n",
        "\n",
        "## 9. Summary\n",
        "\n",
        "Now, it's time we wrapped it up! Congratulations 👏👏 on finishing the first module.\n",
        "\n",
        "In this module, you learned how to use R to explore, visualize, and manipulate data. Data exploration is at the core of data science, and is a key element in data analysis and machine learning.\n",
        "\n",
        "Be sure to join us in the next module as we dive into how to train and evaluate regression models.\n",
        "\n",
        "**Further reading**\n",
        "\n",
        "-   H. Wickham and G. Grolemund, [*R for Data Science: Visualize, Model, Transform, Tidy, and Import Data*](https://r4ds.had.co.nz/).\n",
        "\n",
        "-   H. Wickham, [Advanced R](https://adv-r.hadley.nz/)\n",
        "\n",
        "-   G. Grolemund, [*Hands-On Programming with R - Write your own functions and simulations*](https://rstudio-education.github.io/hopr/).\n",
        "\n",
        "Happy Learning,\n",
        "\n",
        "[Eric (R_ic)](https://twitter.com/ericntay), Gold Microsoft Learn Student Ambassador\n",
        "\n",
        "Thank you to:\n",
        "\n",
        "-   `Florence Kuria`\n",
        "\n",
        "-   `Josh`, Gold Microsoft Learn Student Ambassador\n",
        "\n",
        "-   `Bethany`, Gold Microsoft Learn Student Ambassador\n",
        "\n",
        "for their valuable feedback and suggestions."
      ],
      "metadata": {
        "id": "yD-sUdLCtlKj"
      }
    }
  ]
}